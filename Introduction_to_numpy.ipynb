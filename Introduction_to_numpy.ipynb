{
  "nbformat": 4,
  "nbformat_minor": 0,
  "metadata": {
    "colab": {
      "provenance": [],
      "authorship_tag": "ABX9TyMtK7iezPQLjDD90CuU6Xxp",
      "include_colab_link": true
    },
    "kernelspec": {
      "name": "python3",
      "display_name": "Python 3"
    },
    "language_info": {
      "name": "python"
    }
  },
  "cells": [
    {
      "cell_type": "markdown",
      "metadata": {
        "id": "view-in-github",
        "colab_type": "text"
      },
      "source": [
        "<a href=\"https://colab.research.google.com/github/Hemanth-nri/Numpy/blob/main/Introduction_to_numpy.ipynb\" target=\"_parent\"><img src=\"https://colab.research.google.com/assets/colab-badge.svg\" alt=\"Open In Colab\"/></a>"
      ]
    },
    {
      "cell_type": "code",
      "execution_count": null,
      "metadata": {
        "id": "0UofLgvI3Rxw"
      },
      "outputs": [],
      "source": [
        "import numpy as np"
      ]
    },
    {
      "cell_type": "code",
      "source": [
        "arr =np.array([[1,2,3],[4,5,6]])"
      ],
      "metadata": {
        "id": "l6XvHL-m4VzF"
      },
      "execution_count": null,
      "outputs": []
    },
    {
      "cell_type": "code",
      "source": [
        "type(arr)"
      ],
      "metadata": {
        "colab": {
          "base_uri": "https://localhost:8080/"
        },
        "id": "QXo74vmG4li0",
        "outputId": "7e1221f1-31eb-4338-dd95-ca6ee531c8f1"
      },
      "execution_count": null,
      "outputs": [
        {
          "output_type": "execute_result",
          "data": {
            "text/plain": [
              "numpy.ndarray"
            ]
          },
          "metadata": {},
          "execution_count": 5
        }
      ]
    },
    {
      "cell_type": "code",
      "source": [
        "arr1 = np.random.randint(1,2,(3,1))"
      ],
      "metadata": {
        "id": "uhGs03QV4tnF"
      },
      "execution_count": null,
      "outputs": []
    },
    {
      "cell_type": "code",
      "source": [
        "arr.shape\n",
        "arr1.shape"
      ],
      "metadata": {
        "colab": {
          "base_uri": "https://localhost:8080/"
        },
        "id": "rA-Vj2aM5I4b",
        "outputId": "a8868764-4dff-456b-b4ca-57574a2b83b7"
      },
      "execution_count": null,
      "outputs": [
        {
          "output_type": "execute_result",
          "data": {
            "text/plain": [
              "(3, 1)"
            ]
          },
          "metadata": {},
          "execution_count": 8
        }
      ]
    },
    {
      "cell_type": "code",
      "source": [
        "result = np.dot(arr,arr1)"
      ],
      "metadata": {
        "id": "10-khB225lBZ"
      },
      "execution_count": null,
      "outputs": []
    },
    {
      "cell_type": "code",
      "source": [
        "print (result)"
      ],
      "metadata": {
        "colab": {
          "base_uri": "https://localhost:8080/"
        },
        "id": "sGl6GCy25wQD",
        "outputId": "43d70df8-8248-425e-87b4-f971a074c6ca"
      },
      "execution_count": null,
      "outputs": [
        {
          "output_type": "stream",
          "name": "stdout",
          "text": [
            "[[ 6]\n",
            " [15]]\n"
          ]
        }
      ]
    },
    {
      "cell_type": "code",
      "source": [
        "r1 =np.random.randint(10,20,(3,3))"
      ],
      "metadata": {
        "id": "AoqYKhhH52MY"
      },
      "execution_count": null,
      "outputs": []
    },
    {
      "cell_type": "code",
      "source": [
        "print (r1)"
      ],
      "metadata": {
        "colab": {
          "base_uri": "https://localhost:8080/"
        },
        "id": "0eQozf4B6DVG",
        "outputId": "22c6fda6-6474-4d52-fd01-caf6a3f25d84"
      },
      "execution_count": null,
      "outputs": [
        {
          "output_type": "stream",
          "name": "stdout",
          "text": [
            "[[15 11 19]\n",
            " [14 18 15]\n",
            " [18 19 12]]\n"
          ]
        }
      ]
    },
    {
      "cell_type": "code",
      "source": [
        "r2 = np.eye(3)\n",
        "print (r2)"
      ],
      "metadata": {
        "colab": {
          "base_uri": "https://localhost:8080/"
        },
        "id": "JVCBMQky6JpK",
        "outputId": "544a747a-ae95-428e-8088-be323e3160d0"
      },
      "execution_count": null,
      "outputs": [
        {
          "output_type": "stream",
          "name": "stdout",
          "text": [
            "[[1. 0. 0.]\n",
            " [0. 1. 0.]\n",
            " [0. 0. 1.]]\n"
          ]
        }
      ]
    },
    {
      "cell_type": "code",
      "source": [
        "result2 = np.eye(3)\n",
        "print (result2)"
      ],
      "metadata": {
        "colab": {
          "base_uri": "https://localhost:8080/"
        },
        "id": "sgCJ94as6Z7B",
        "outputId": "405b12d5-44dd-4516-9e10-6664030dc083"
      },
      "execution_count": null,
      "outputs": [
        {
          "output_type": "stream",
          "name": "stdout",
          "text": [
            "[[1. 0. 0.]\n",
            " [0. 1. 0.]\n",
            " [0. 0. 1.]]\n"
          ]
        }
      ]
    },
    {
      "cell_type": "code",
      "source": [
        "t1 = np.random.randint(3,6,(3,3))\n",
        "t2 = np.random.randint(3,6,(3,3))"
      ],
      "metadata": {
        "id": "KNFSWRwo80hc"
      },
      "execution_count": null,
      "outputs": []
    },
    {
      "cell_type": "code",
      "source": [
        "print (t1)\n",
        "print (t2)"
      ],
      "metadata": {
        "colab": {
          "base_uri": "https://localhost:8080/"
        },
        "id": "3WEI3u5f9Ntq",
        "outputId": "c027bd38-927c-4b06-bce1-7146ecc56b7b"
      },
      "execution_count": null,
      "outputs": [
        {
          "output_type": "stream",
          "name": "stdout",
          "text": [
            "[[4 5 3]\n",
            " [5 3 3]\n",
            " [5 4 4]]\n",
            "[[4 3 5]\n",
            " [3 3 5]\n",
            " [5 4 4]]\n"
          ]
        }
      ]
    },
    {
      "cell_type": "code",
      "source": [
        "t3 = (t1) + (t2)"
      ],
      "metadata": {
        "id": "MYvfkIc69WKa"
      },
      "execution_count": null,
      "outputs": []
    },
    {
      "cell_type": "code",
      "source": [
        "print (t3)"
      ],
      "metadata": {
        "colab": {
          "base_uri": "https://localhost:8080/"
        },
        "id": "6IN4c_k19qLh",
        "outputId": "d208a7f3-0834-4adb-b20b-4cef9897d545"
      },
      "execution_count": null,
      "outputs": [
        {
          "output_type": "stream",
          "name": "stdout",
          "text": [
            "[[ 8  8  8]\n",
            " [ 8  6  8]\n",
            " [10  8  8]]\n"
          ]
        }
      ]
    },
    {
      "cell_type": "code",
      "source": [
        "mean = t3.mean()\n",
        "max = t3.max()\n",
        "median  = np.median(t3)\n",
        "std = np.std(t3)\n",
        "var = np.var(t3)"
      ],
      "metadata": {
        "id": "zi9lYULh9wXr"
      },
      "execution_count": null,
      "outputs": []
    },
    {
      "cell_type": "code",
      "source": [
        "print (median)"
      ],
      "metadata": {
        "colab": {
          "base_uri": "https://localhost:8080/"
        },
        "id": "J7ATrzgx-44B",
        "outputId": "a3185e58-2a0c-42b0-cb7f-e09a4a0e0725"
      },
      "execution_count": null,
      "outputs": [
        {
          "output_type": "stream",
          "name": "stdout",
          "text": [
            "8.0\n"
          ]
        }
      ]
    },
    {
      "cell_type": "code",
      "source": [
        "print (mean)"
      ],
      "metadata": {
        "colab": {
          "base_uri": "https://localhost:8080/"
        },
        "id": "Ty-qyp-u--YT",
        "outputId": "62fc21e8-ce65-43c8-fada-13a38421a95a"
      },
      "execution_count": null,
      "outputs": [
        {
          "output_type": "stream",
          "name": "stdout",
          "text": [
            "8.0\n"
          ]
        }
      ]
    },
    {
      "cell_type": "code",
      "source": [
        "print (max)"
      ],
      "metadata": {
        "colab": {
          "base_uri": "https://localhost:8080/"
        },
        "id": "9L5Ehqtb_ByK",
        "outputId": "3aa12241-e186-4fa0-bdae-19db125da57b"
      },
      "execution_count": null,
      "outputs": [
        {
          "output_type": "stream",
          "name": "stdout",
          "text": [
            "10\n"
          ]
        }
      ]
    },
    {
      "cell_type": "code",
      "source": [
        "print (std)"
      ],
      "metadata": {
        "colab": {
          "base_uri": "https://localhost:8080/"
        },
        "id": "TLJt70d-_EtO",
        "outputId": "ee9f42a1-670b-4080-eeea-5933d7edfae1"
      },
      "execution_count": null,
      "outputs": [
        {
          "output_type": "stream",
          "name": "stdout",
          "text": [
            "0.9428090415820634\n"
          ]
        }
      ]
    },
    {
      "cell_type": "code",
      "source": [
        "print (var)"
      ],
      "metadata": {
        "colab": {
          "base_uri": "https://localhost:8080/"
        },
        "id": "OouPge9y_H7F",
        "outputId": "4fc5e204-097d-4091-f1bd-cb9e47af9a7d"
      },
      "execution_count": null,
      "outputs": [
        {
          "output_type": "stream",
          "name": "stdout",
          "text": [
            "0.8888888888888888\n"
          ]
        }
      ]
    },
    {
      "cell_type": "code",
      "source": [
        "# Trigonometric functions\n",
        "# sin(x)\n",
        "# cos(x)\n",
        "# Tan(x)- sin(x)/cos(x)\n",
        "# cosec - 1/sin(x)\n",
        "# sec - 1/ cos(x)\n",
        "# cot - 1/ tan(x)\n",
        "angles = np.array([0,15,30,45,60,75,90])"
      ],
      "metadata": {
        "id": "lXTQ2c3U_Ltl"
      },
      "execution_count": null,
      "outputs": []
    },
    {
      "cell_type": "code",
      "source": [
        "result = np.sin(np.radians(angles))\n",
        "result = np.cos(np.radians(angles))\n",
        "result = np.tan(np.radians(angles))"
      ],
      "metadata": {
        "id": "V7SwpI0cANW_"
      },
      "execution_count": null,
      "outputs": []
    },
    {
      "cell_type": "code",
      "source": [
        "print (result)\n",
        "print (result ,1)\n",
        "print (result ,2)"
      ],
      "metadata": {
        "colab": {
          "base_uri": "https://localhost:8080/"
        },
        "id": "EaWHZrXZAs22",
        "outputId": "a10d5849-d3f6-4f00-fccf-781ede9dd5cc"
      },
      "execution_count": null,
      "outputs": [
        {
          "output_type": "stream",
          "name": "stdout",
          "text": [
            "[0.00000000e+00 2.67949192e-01 5.77350269e-01 1.00000000e+00\n",
            " 1.73205081e+00 3.73205081e+00 1.63312394e+16]\n",
            "[0.00000000e+00 2.67949192e-01 5.77350269e-01 1.00000000e+00\n",
            " 1.73205081e+00 3.73205081e+00 1.63312394e+16] 1\n",
            "[0.00000000e+00 2.67949192e-01 5.77350269e-01 1.00000000e+00\n",
            " 1.73205081e+00 3.73205081e+00 1.63312394e+16] 2\n"
          ]
        }
      ]
    },
    {
      "cell_type": "code",
      "source": [
        "arr = np.array([1,2,3,4,5,6])\n",
        "#Reshape the array\n",
        "reshapedarr = arr.reshape(3,2)\n",
        "print (reshapedarr)"
      ],
      "metadata": {
        "colab": {
          "base_uri": "https://localhost:8080/"
        },
        "id": "kgZaZw_oBDRo",
        "outputId": "c9cd7e3b-3707-4c8e-e94a-b36efe247703"
      },
      "execution_count": null,
      "outputs": [
        {
          "output_type": "stream",
          "name": "stdout",
          "text": [
            "[[1 2]\n",
            " [3 4]\n",
            " [5 6]]\n"
          ]
        }
      ]
    },
    {
      "cell_type": "code",
      "source": [
        "#convert / Flatten any n dim array\n",
        "flattenedarr = arr.flatten()\n",
        "print (flattenedarr)"
      ],
      "metadata": {
        "colab": {
          "base_uri": "https://localhost:8080/"
        },
        "id": "pZs5dc1-B4K2",
        "outputId": "93ff8824-8395-4406-947a-b435d8e87a44"
      },
      "execution_count": null,
      "outputs": [
        {
          "output_type": "stream",
          "name": "stdout",
          "text": [
            "[1 2 3 4 5 6]\n"
          ]
        }
      ]
    },
    {
      "cell_type": "code",
      "source": [
        "# Stacking the data\n",
        "# Vertical staking\n",
        "arr1 = np.array([1,2,3,4])\n",
        "arr2 = np.array([10,20,30,40])\n",
        "arr3 = np.vstack((arr1,arr2))\n",
        "print(f\" The shape of arr3 is{arr3.shape}\")"
      ],
      "metadata": {
        "colab": {
          "base_uri": "https://localhost:8080/"
        },
        "id": "S016jEfwDnme",
        "outputId": "e257d779-86ca-4dba-e04b-8289490bbd56"
      },
      "execution_count": null,
      "outputs": [
        {
          "output_type": "stream",
          "name": "stdout",
          "text": [
            " The shape of arr3 is(2, 4)\n"
          ]
        }
      ]
    },
    {
      "cell_type": "code",
      "source": [
        "#Horizontal stacking\n",
        "arr4 = np.hstack((arr1,arr2))\n",
        "print(f\" The shape of arr4 is {arr4.shape}\")\n",
        "print (arr4)"
      ],
      "metadata": {
        "colab": {
          "base_uri": "https://localhost:8080/"
        },
        "id": "-gFQIGAtFlYi",
        "outputId": "53bcf77b-b313-464e-f3df-85c67c4828d6"
      },
      "execution_count": null,
      "outputs": [
        {
          "output_type": "stream",
          "name": "stdout",
          "text": [
            " The shape of arr4 is (8,)\n",
            "[ 1  2  3  4 10 20 30 40]\n"
          ]
        }
      ]
    },
    {
      "cell_type": "code",
      "source": [
        "#Filtering the data\n",
        "arr = np.array ([10,20,30,40,50,60,70,80])\n",
        "farr = arr[arr> 50]\n",
        "farr1 = arr[arr<50]\n",
        "farr2 = arr[arr>=20]\n",
        "print (farr)\n",
        "print (farr1)\n",
        "print (farr2)"
      ],
      "metadata": {
        "colab": {
          "base_uri": "https://localhost:8080/"
        },
        "id": "VTyjkYkXGVWb",
        "outputId": "65a03a3e-ddc5-4d95-ddbf-563270c45e52"
      },
      "execution_count": null,
      "outputs": [
        {
          "output_type": "stream",
          "name": "stdout",
          "text": [
            "[60 70 80]\n",
            "[10 20 30 40]\n",
            "[20 30 40 50 60 70 80]\n"
          ]
        }
      ]
    }
  ]
}